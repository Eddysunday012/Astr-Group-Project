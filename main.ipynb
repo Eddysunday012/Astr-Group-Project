{
 "cells": [
  {
   "cell_type": "markdown",
   "metadata": {},
   "source": [
    "# ASTR 19 Group Project\n",
    "#### created by Ethan Domingo, Michelle Kwong and Wyatt Iles"
   ]
  },
  {
   "cell_type": "markdown",
   "metadata": {},
   "source": [
    "### Importing the necessary libaries\n",
    "\n",
    "#### In this case:\n",
    "- Matplotlib.pyplot\n",
    "- Numpy\n",
    "- Scipy (specifically curve_fit feature)\n",
    "- Math"
   ]
  },
  {
   "cell_type": "code",
   "execution_count": 57,
   "metadata": {},
   "outputs": [],
   "source": [
    "import matplotlib.pyplot as plt\n",
    "import numpy as np\n",
    "from scipy.optimize import curve_fit\n",
    "import math"
   ]
  },
  {
   "cell_type": "markdown",
   "metadata": {},
   "source": [
    "### Looking over and unpacking the data"
   ]
  },
  {
   "cell_type": "code",
   "execution_count": 3,
   "metadata": {},
   "outputs": [
    {
     "data": {
      "text/plain": [
       "['#Column A: Day of the year\\n',\n",
       " '#Column B: Time in hours:minutes\\n',\n",
       " '#Column B: Tide Height in feet\\n',\n",
       " ' 1  8:07  6.57\\n',\n",
       " ' 1 15:37 -0.39\\n',\n",
       " ' 2  8:55  5.38\\n',\n",
       " ' 2 16:25 -1.74\\n',\n",
       " ' 3  9:45  5.26\\n',\n",
       " ' 3 17:14 -1.36\\n',\n",
       " ' 4 10:35  4.13\\n',\n",
       " ' 4 18:00 -1.15\\n',\n",
       " ' 5 11:28  3.48\\n',\n",
       " ' 5 18:46 -1.61\\n',\n",
       " ' 6 12:22  2.62\\n',\n",
       " ' 6 19:31  0.05\\n',\n",
       " ' 7 13:24  1.83\\n',\n",
       " ' 7 20:16  1.01\\n',\n",
       " ' 8  3:22  3.57\\n',\n",
       " ' 8 21:01  0.73\\n',\n",
       " ' 9  4:07  4.54\\n',\n",
       " ' 9 21:46  2.17\\n',\n",
       " '10  4:50  3.76\\n',\n",
       " '10 11:58  2.88\\n',\n",
       " '11  5:31  3.90\\n',\n",
       " '11 12:56  1.92\\n',\n",
       " '12  6:08  4.73\\n',\n",
       " '12 13:45  1.74\\n',\n",
       " '13  6:47  5.66\\n',\n",
       " '13 14:25  0.79\\n',\n",
       " '14  7:22  5.33\\n',\n",
       " '14 15:00 -0.04\\n',\n",
       " '15  7:59  5.23\\n',\n",
       " '15 15:34 -1.12\\n',\n",
       " '16  8:34  6.67\\n',\n",
       " '16 16:08 -0.61\\n',\n",
       " '17  9:10  4.74\\n',\n",
       " '17 16:41 -0.93\\n',\n",
       " '18  9:45  4.69\\n',\n",
       " '18 17:12 -1.29\\n',\n",
       " '19 10:21  4.20\\n',\n",
       " '19 17:45  0.22\\n',\n",
       " '20 10:57  3.68\\n',\n",
       " '20 18:15  0.26\\n',\n",
       " '21 11:38  2.47\\n',\n",
       " '21 18:48  0.36\\n',\n",
       " '22 12:25  2.59\\n',\n",
       " '22 19:20  0.99\\n',\n",
       " '23  2:22  4.10\\n',\n",
       " '23 19:52  1.87\\n',\n",
       " '24  2:58  3.17\\n',\n",
       " '24 20:30  1.60\\n',\n",
       " '25  3:37  3.71\\n',\n",
       " '25 10:44  3.10\\n',\n",
       " '26  4:23  4.04\\n',\n",
       " '26 11:55  2.49\\n',\n",
       " '27  5:15  4.07\\n',\n",
       " '27 12:57  2.18\\n',\n",
       " '28  6:09  5.93\\n',\n",
       " '28 13:50  0.70\\n',\n",
       " '29  7:05  6.89\\n',\n",
       " '29 14:39  0.21\\n',\n",
       " '30  7:58  6.72\\n',\n",
       " '30 15:27  0.22\\n',\n",
       " '31  8:50  6.77\\n',\n",
       " '31 16:10 -1.68\\n',\n",
       " '32  9:40  5.77\\n',\n",
       " '32 16:52 -1.32\\n',\n",
       " '33 10:30  4.35\\n',\n",
       " '33 17:34 -0.73\\n',\n",
       " '34 11:19  4.23\\n',\n",
       " '34 18:12 -0.38\\n',\n",
       " '35 12:10  2.24\\n',\n",
       " '35 18:49 -0.61\\n',\n",
       " '36  1:32  3.45\\n',\n",
       " '36 19:24 -0.46\\n',\n",
       " '37  2:13  4.13\\n',\n",
       " '37 20:00  1.21\\n',\n",
       " '38  2:54  3.34\\n',\n",
       " '38  9:54  2.58\\n',\n",
       " '39  3:39  3.32\\n',\n",
       " '39 11:15  3.26\\n',\n",
       " '40  4:29  5.21\\n',\n",
       " '40 12:22  2.39\\n',\n",
       " '41  5:21  4.83\\n',\n",
       " '41 13:14  2.41\\n']"
      ]
     },
     "execution_count": 3,
     "metadata": {},
     "output_type": "execute_result"
    }
   ],
   "source": [
    "with open('ASTR19_S22_group_project_data.txt') as f:\n",
    "    lines = f.readlines()\n",
    "\n",
    "lines"
   ]
  },
  {
   "cell_type": "code",
   "execution_count": 4,
   "metadata": {},
   "outputs": [],
   "source": [
    "data = np.loadtxt('ASTR19_S22_group_project_data.txt', dtype = \"str\")"
   ]
  },
  {
   "cell_type": "markdown",
   "metadata": {},
   "source": [
    "### Storing the data into three separate numpy arrays\n",
    "\n",
    "The three main arrays used:\n",
    "- day to mark the specific day\n",
    "- time to mark the timestamp of the recording\n",
    "- tide to measure the height of the tide"
   ]
  },
  {
   "cell_type": "code",
   "execution_count": 23,
   "metadata": {},
   "outputs": [
    {
     "name": "stdout",
     "output_type": "stream",
     "text": [
      "[ 1.  1.  2.  2.  3.  3.  4.  4.  5.  5.  6.  6.  7.  7.  8.  8.  9.  9.\n",
      " 10. 10. 11. 11. 12. 12. 13. 13. 14. 14. 15. 15. 16. 16. 17. 17. 18. 18.\n",
      " 19. 19. 20. 20. 21. 21. 22. 22. 23. 23. 24. 24. 25. 25. 26. 26. 27. 27.\n",
      " 28. 28. 29. 29. 30. 30. 31. 31. 32. 32. 33. 33. 34. 34. 35. 35. 36. 36.\n",
      " 37. 37. 38. 38. 39. 39. 40. 40. 41. 41.]\n",
      "['8:07' '15:37' '8:55' '16:25' '9:45' '17:14' '10:35' '18:00' '11:28'\n",
      " '18:46' '12:22' '19:31' '13:24' '20:16' '3:22' '21:01' '4:07' '21:46'\n",
      " '4:50' '11:58' '5:31' '12:56' '6:08' '13:45' '6:47' '14:25' '7:22'\n",
      " '15:00' '7:59' '15:34' '8:34' '16:08' '9:10' '16:41' '9:45' '17:12'\n",
      " '10:21' '17:45' '10:57' '18:15' '11:38' '18:48' '12:25' '19:20' '2:22'\n",
      " '19:52' '2:58' '20:30' '3:37' '10:44' '4:23' '11:55' '5:15' '12:57'\n",
      " '6:09' '13:50' '7:05' '14:39' '7:58' '15:27' '8:50' '16:10' '9:40'\n",
      " '16:52' '10:30' '17:34' '11:19' '18:12' '12:10' '18:49' '1:32' '19:24'\n",
      " '2:13' '20:00' '2:54' '9:54' '3:39' '11:15' '4:29' '12:22' '5:21' '13:14']\n",
      "[ 6.57 -0.39  5.38 -1.74  5.26 -1.36  4.13 -1.15  3.48 -1.61  2.62  0.05\n",
      "  1.83  1.01  3.57  0.73  4.54  2.17  3.76  2.88  3.9   1.92  4.73  1.74\n",
      "  5.66  0.79  5.33 -0.04  5.23 -1.12  6.67 -0.61  4.74 -0.93  4.69 -1.29\n",
      "  4.2   0.22  3.68  0.26  2.47  0.36  2.59  0.99  4.1   1.87  3.17  1.6\n",
      "  3.71  3.1   4.04  2.49  4.07  2.18  5.93  0.7   6.89  0.21  6.72  0.22\n",
      "  6.77 -1.68  5.77 -1.32  4.35 -0.73  4.23 -0.38  2.24 -0.61  3.45 -0.46\n",
      "  4.13  1.21  3.34  2.58  3.32  3.26  5.21  2.39  4.83  2.41]\n"
     ]
    }
   ],
   "source": [
    "day, time, tide = [],[],[]\n",
    "\n",
    "for d in data:\n",
    "        day = np.append(day, int(d[0]), axis=None)\n",
    "        time = np.append(time, d[1], axis=None)\n",
    "        tide = np.append(tide, float(d[2]), axis=None)\n",
    "\n",
    "print(day)\n",
    "print(time)\n",
    "print(tide)"
   ]
  },
  {
   "cell_type": "markdown",
   "metadata": {},
   "source": [
    "### Finding an Oscillatory Function\n",
    "\n",
    "We first played around a bunch with finding a regular oscillatory function that would work with the provided data set, originally starting with just a sin function and then further elaborating it over time. We then played around a bit more and noticed a way to account for the interchange in tide height over a two week period with this function defined below:"
   ]
  },
  {
   "cell_type": "code",
   "execution_count": 24,
   "metadata": {},
   "outputs": [
    {
     "data": {
      "text/plain": [
       "\" def oscillatory(day, time, tide):\\n    times = []\\n    for i in range(len(time)):\\n        t = float(time[i].replace(':', '.'))\\n\\n        times.append(t)\\n\\n    best_fit = [2*math.sin(times[i] / 4) * math.sin(times[i] / 6) + (math.sin(times[i] / 4) + 2) for i in range(len(times))]\\n\\n    return best_fit \""
      ]
     },
     "execution_count": 62,
     "metadata": {},
     "output_type": "execute_result"
    }
   ],
   "source": [
    "\"\"\" def oscillatory(day, time, tide):\n",
    "    times = []\n",
    "    for i in range(len(time)):\n",
    "        t = float(time[i].replace(':', '.'))\n",
    "\n",
    "        times.append(t)\n",
    "\n",
    "    # DEFINED FUNCTION\n",
    "    best_fit = [2*math.sin(times[i] / 4) * math.sin(times[i] / 6) + (math.sin(times[i] / 4) + 2) for i in range(len(times))]\n",
    "\n",
    "    return best_fit \"\"\""
   ]
  },
  {
   "cell_type": "markdown",
   "metadata": {},
   "source": [
    "And when plotted among on a graph with the data values:"
   ]
  },
  {
   "cell_type": "code",
   "execution_count": 7,
   "metadata": {},
   "outputs": [
    {
     "data": {
      "text/plain": [
       "' best_fit = oscillatory(day, time, tide)\\n\\nplt.plot(day, tide, day, best_fit)\\nplt.xlabel(\"Days\")\\nplt.ylabel(\"Tide Height\") '"
      ]
     },
     "execution_count": 63,
     "metadata": {},
     "output_type": "execute_result"
    }
   ],
   "source": [
    "\"\"\" best_fit = oscillatory(day, time, tide)\n",
    "\n",
    "plt.plot(day, tide, day, best_fit)\n",
    "plt.xlabel(\"Days\")\n",
    "plt.ylabel(\"Tide Height\") \"\"\""
   ]
  },
  {
   "cell_type": "markdown",
   "metadata": {},
   "source": [
    "With this in mind, we then decided to add more parameters and use scipy's curve-fit function to find better finding constants that fit the dataset:"
   ]
  },
  {
   "cell_type": "code",
   "execution_count": 8,
   "metadata": {},
   "outputs": [],
   "source": [
    "def oscicllationFunc(x, a ,b, c, d, e):\n",
    "    return a*np.sin(x / b) * np.sin(x / c) + (x / d) + e"
   ]
  },
  {
   "cell_type": "markdown",
   "metadata": {},
   "source": [
    "We also made sure to redefine the time stamps as inputs for our function"
   ]
  },
  {
   "cell_type": "code",
   "execution_count": 9,
   "metadata": {},
   "outputs": [
    {
     "data": {
      "text/plain": [
       "[8.07,\n",
       " 15.37,\n",
       " 8.55,\n",
       " 16.25,\n",
       " 9.45,\n",
       " 17.14,\n",
       " 10.35,\n",
       " 18.0,\n",
       " 11.28,\n",
       " 18.46,\n",
       " 12.22,\n",
       " 19.31,\n",
       " 13.24,\n",
       " 20.16,\n",
       " 3.22,\n",
       " 21.01,\n",
       " 4.07,\n",
       " 21.46,\n",
       " 4.5,\n",
       " 11.58,\n",
       " 5.31,\n",
       " 12.56,\n",
       " 6.08,\n",
       " 13.45,\n",
       " 6.47,\n",
       " 14.25,\n",
       " 7.22,\n",
       " 15.0,\n",
       " 7.59,\n",
       " 15.34,\n",
       " 8.34,\n",
       " 16.08,\n",
       " 9.1,\n",
       " 16.41,\n",
       " 9.45,\n",
       " 17.12,\n",
       " 10.21,\n",
       " 17.45,\n",
       " 10.57,\n",
       " 18.15,\n",
       " 11.38,\n",
       " 18.48,\n",
       " 12.25,\n",
       " 19.2,\n",
       " 2.22,\n",
       " 19.52,\n",
       " 2.58,\n",
       " 20.3,\n",
       " 3.37,\n",
       " 10.44,\n",
       " 4.23,\n",
       " 11.55,\n",
       " 5.15,\n",
       " 12.57,\n",
       " 6.09,\n",
       " 13.5,\n",
       " 7.05,\n",
       " 14.39,\n",
       " 7.58,\n",
       " 15.27,\n",
       " 8.5,\n",
       " 16.1,\n",
       " 9.4,\n",
       " 16.52,\n",
       " 10.3,\n",
       " 17.34,\n",
       " 11.19,\n",
       " 18.12,\n",
       " 12.1,\n",
       " 18.49,\n",
       " 1.32,\n",
       " 19.24,\n",
       " 2.13,\n",
       " 20.0,\n",
       " 2.54,\n",
       " 9.54,\n",
       " 3.39,\n",
       " 11.15,\n",
       " 4.29,\n",
       " 12.22,\n",
       " 5.21,\n",
       " 13.14]"
      ]
     },
     "execution_count": 9,
     "metadata": {},
     "output_type": "execute_result"
    }
   ],
   "source": [
    "times = []\n",
    "for i in range(len(time)):\n",
    "    t = float(time[i].replace(':', '.'))\n",
    "\n",
    "    times.append(t)\n",
    "times"
   ]
  },
  {
   "cell_type": "markdown",
   "metadata": {},
   "source": [
    "Then we fit on a curve and we got the resulting constants for a, b, c, d and e"
   ]
  },
  {
   "cell_type": "code",
   "execution_count": 26,
   "metadata": {},
   "outputs": [
    {
     "name": "stdout",
     "output_type": "stream",
     "text": [
      "[ 4.87815859e+04 -1.11512514e+01  2.12213476e+04  4.29257831e-01\n",
      " -1.19069099e+00]\n"
     ]
    }
   ],
   "source": [
    "popt, pcov = curve_fit(oscicllationFunc, times, tide)\n",
    "print(popt)"
   ]
  },
  {
   "cell_type": "markdown",
   "metadata": {},
   "source": [
    "Then finally plotting the new found curve on the dataset we get:"
   ]
  },
  {
   "cell_type": "code",
   "execution_count": 12,
   "metadata": {},
   "outputs": [
    {
     "data": {
      "image/png": "[encoded data removed]",
      "text/plain": [
       "<Figure size 432x288 with 1 Axes>"
      ]
     },
     "metadata": {
      "needs_background": "light"
     },
     "output_type": "display_data"
    }
   ],
   "source": [
    "plt.plot(day, tide, label=\"data\")\n",
    "plt.plot(day, oscicllationFunc(times, *popt), label=\"best fit\")\n",
    "plt.xlabel(\"Days\")\n",
    "plt.ylabel(\"Tide Height\")\n",
    "plt.legend(loc='best', fancybox=True, shadow=True)\n",
    "plt.savefig(\"TidalMeasurements.pdf\")"
   ]
  },
  {
   "cell_type": "markdown",
   "metadata": {},
   "source": [
    "### Calculating Residuals\n",
    "\n",
    "Residuals were calculated using the following code block below:"
   ]
  },
  {
   "cell_type": "code",
   "execution_count": 28,
   "metadata": {},
   "outputs": [
    {
     "name": "stdout",
     "output_type": "stream",
     "text": [
      "[ 1.24405825 -0.32666066  0.28816369 -1.29201729  0.7190479  -0.72135357\n",
      "  0.25472376 -0.55440294  0.37188747 -1.14155145  0.32389802  0.0710637\n",
      "  0.40098942  0.28156914 -0.63287891 -1.0794123  -0.41143331 -0.35523087\n",
      " -1.47058827  0.02928806 -1.68436896 -0.08255465 -0.99506655  0.48218888\n",
      " -0.06875141  0.14517913 -0.28855565 -0.18695812 -0.28164273 -1.07273212\n",
      "  1.47011979 -0.22236648 -0.03089528 -0.43185877  0.1490479  -0.65315428\n",
      "  0.21518106  0.87079374 -0.01947633  0.82253422 -0.55265603  0.82115831\n",
      "  0.31989038  1.08533182  1.1282101   1.73516636 -0.28975061  0.71708018\n",
      " -0.64444583 -0.70387441 -1.02292962 -0.38657805 -1.46173934  0.18603382\n",
      "  0.20428956 -0.5175828   1.2335875  -0.33544215  1.20503983  0.22907675\n",
      "  1.65167311 -1.28489828  1.19508266 -0.7912366   0.43538226 -0.0800813\n",
      "  1.04533393  0.18978608 -0.16016685 -0.15254317  1.92395376 -0.39109322\n",
      "  1.28819194  0.64711774 -0.06804494 -1.8989248  -1.05401557  0.04143013\n",
      "  0.10760164  0.09389802 -0.72244827  0.89830482]\n"
     ]
    }
   ],
   "source": [
    "residuals = tide- oscicllationFunc(times, *popt)\n",
    "print(residuals)\n"
   ]
  },
  {
   "cell_type": "markdown",
   "metadata": {},
   "source": [
    "Furthermore, we also found the $R^2$ value, which represents the value of how much the function fits the graph, with values closer to 1 being better"
   ]
  },
  {
   "cell_type": "code",
   "execution_count": 27,
   "metadata": {},
   "outputs": [
    {
     "data": {
      "text/plain": [
       "0.8814756009892044"
      ]
     },
     "execution_count": 27,
     "metadata": {},
     "output_type": "execute_result"
    }
   ],
   "source": [
    "ss_res = np.sum(residuals**2)\n",
    "ss_tot = np.sum((tide-np.mean(tide))**2)\n",
    "r_squared = 1 - (ss_res / ss_tot)\n",
    "r_squared"
   ]
  },
  {
   "cell_type": "markdown",
   "metadata": {},
   "source": [
    "Plotting all the residuals on a histogram we get:"
   ]
  },
  {
   "cell_type": "code",
   "execution_count": 37,
   "metadata": {},
   "outputs": [
    {
     "data": {
      "image/png": "[encoded data removed]",
      "text/plain": [
       "<Figure size 432x288 with 1 Axes>"
      ]
     },
     "metadata": {
      "needs_background": "light"
     },
     "output_type": "display_data"
    }
   ],
   "source": [
    "plt.hist(residuals, edgecolor='black')\n",
    "plt.savefig(\"TidalHistogram.pdf\")\n",
    "plt.show()"
   ]
  },
  {
   "cell_type": "markdown",
   "metadata": {},
   "source": [
    "### Tsunami Outlier\n",
    "\n",
    "Now taking into account the tsunami, we first must calculate the value of the height of tsunami. This can be found be finding the max value of all the tides and adding 2 feet to it like so"
   ]
  },
  {
   "cell_type": "code",
   "execution_count": 30,
   "metadata": {},
   "outputs": [
    {
     "data": {
      "text/plain": [
       "8.89"
      ]
     },
     "execution_count": 30,
     "metadata": {},
     "output_type": "execute_result"
    }
   ],
   "source": [
    "maxVal = np.amax(tide)\n",
    "tsunamiVal = maxVal + 2\n",
    "tsunamiVal\n"
   ]
  },
  {
   "cell_type": "markdown",
   "metadata": {},
   "source": [
    "Afterwards, we can calculate the residual with the single value and also the estimated timestamp, which is around 12.3"
   ]
  },
  {
   "cell_type": "code",
   "execution_count": 31,
   "metadata": {},
   "outputs": [
    {
     "data": {
      "text/plain": [
       "6.663181972816805"
      ]
     },
     "execution_count": 31,
     "metadata": {},
     "output_type": "execute_result"
    }
   ],
   "source": [
    "tsunamiXVal = 12.3\n",
    "extraResid = tsunamiVal - oscicllationFunc(tsunamiXVal, *popt)\n",
    "extraResid"
   ]
  },
  {
   "cell_type": "markdown",
   "metadata": {},
   "source": [
    "With the residual being around 6.66, we can then calculate the number of standard deviations it is from the mean "
   ]
  },
  {
   "cell_type": "code",
   "execution_count": 36,
   "metadata": {},
   "outputs": [
    {
     "data": {
      "text/plain": [
       "8.129875935752624"
      ]
     },
     "execution_count": 36,
     "metadata": {},
     "output_type": "execute_result"
    }
   ],
   "source": [
    "std = np.std(residuals)\n",
    "numStds = extraResid/ std\n",
    "numStds"
   ]
  },
  {
   "cell_type": "markdown",
   "metadata": {},
   "source": [
    "Then plotting it onto a new histogram we get:"
   ]
  },
  {
   "cell_type": "code",
   "execution_count": 38,
   "metadata": {},
   "outputs": [
    {
     "data": {
      "image/png": "[encoded data removed]",
      "text/plain": [
       "<Figure size 432x288 with 1 Axes>"
      ]
     },
     "metadata": {
      "needs_background": "light"
     },
     "output_type": "display_data"
    }
   ],
   "source": [
    "newResiduals = np.append(residuals, extraResid)\n",
    "plt.hist(newResiduals, edgecolor='black')\n",
    "plt.savefig(\"TidalHistogramOutlier.pdf\")\n",
    "plt.show()"
   ]
  }
 ],
 "metadata": {
  "interpreter": {
   "hash": "0d4397f28a53cbce0d6a03358e2baad1194adb363516cfcc3153fa630ceeb8c4"
  },
  "kernelspec": {
   "display_name": "Python 3 (ipykernel)",
   "language": "python",
   "name": "python3"
  },
  "language_info": {
   "codemirror_mode": {
    "name": "ipython",
    "version": 3
   },
   "file_extension": ".py",
   "mimetype": "text/x-python",
   "name": "python",
   "nbconvert_exporter": "python",
   "pygments_lexer": "ipython3",
   "version": "3.8.9"
  }
 },
 "nbformat": 4,
 "nbformat_minor": 2
}
