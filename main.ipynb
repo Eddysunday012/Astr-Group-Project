{
 "cells": [
  {
   "cell_type": "code",
   "execution_count": 57,
   "metadata": {},
   "outputs": [],
   "source": [
    "import matplotlib.pyplot as plt\n",
    "import numpy as np\n",
    "from scipy.optimize import curve_fit\n",
    "import math"
   ]
  },
  {
   "cell_type": "code",
   "execution_count": 58,
   "metadata": {},
   "outputs": [],
   "source": [
    "with open('ASTR19_S22_group_project_data.txt') as f:\n",
    "    lines = f.readlines()"
   ]
  },
  {
   "cell_type": "code",
   "execution_count": 59,
   "metadata": {},
   "outputs": [
    {
     "data": {
      "text/plain": [
       "['#Column A: Day of the year\\n',\n",
       " '#Column B: Time in hours:minutes\\n',\n",
       " '#Column B: Tide Height in feet\\n',\n",
       " ' 1  8:07  6.57\\n',\n",
       " ' 1 15:37 -0.39\\n',\n",
       " ' 2  8:55  5.38\\n',\n",
       " ' 2 16:25 -1.74\\n',\n",
       " ' 3  9:45  5.26\\n',\n",
       " ' 3 17:14 -1.36\\n',\n",
       " ' 4 10:35  4.13\\n',\n",
       " ' 4 18:00 -1.15\\n',\n",
       " ' 5 11:28  3.48\\n',\n",
       " ' 5 18:46 -1.61\\n',\n",
       " ' 6 12:22  2.62\\n',\n",
       " ' 6 19:31  0.05\\n',\n",
       " ' 7 13:24  1.83\\n',\n",
       " ' 7 20:16  1.01\\n',\n",
       " ' 8  3:22  3.57\\n',\n",
       " ' 8 21:01  0.73\\n',\n",
       " ' 9  4:07  4.54\\n',\n",
       " ' 9 21:46  2.17\\n',\n",
       " '10  4:50  3.76\\n',\n",
       " '10 11:58  2.88\\n',\n",
       " '11  5:31  3.90\\n',\n",
       " '11 12:56  1.92\\n',\n",
       " '12  6:08  4.73\\n',\n",
       " '12 13:45  1.74\\n',\n",
       " '13  6:47  5.66\\n',\n",
       " '13 14:25  0.79\\n',\n",
       " '14  7:22  5.33\\n',\n",
       " '14 15:00 -0.04\\n',\n",
       " '15  7:59  5.23\\n',\n",
       " '15 15:34 -1.12\\n',\n",
       " '16  8:34  6.67\\n',\n",
       " '16 16:08 -0.61\\n',\n",
       " '17  9:10  4.74\\n',\n",
       " '17 16:41 -0.93\\n',\n",
       " '18  9:45  4.69\\n',\n",
       " '18 17:12 -1.29\\n',\n",
       " '19 10:21  4.20\\n',\n",
       " '19 17:45  0.22\\n',\n",
       " '20 10:57  3.68\\n',\n",
       " '20 18:15  0.26\\n',\n",
       " '21 11:38  2.47\\n',\n",
       " '21 18:48  0.36\\n',\n",
       " '22 12:25  2.59\\n',\n",
       " '22 19:20  0.99\\n',\n",
       " '23  2:22  4.10\\n',\n",
       " '23 19:52  1.87\\n',\n",
       " '24  2:58  3.17\\n',\n",
       " '24 20:30  1.60\\n',\n",
       " '25  3:37  3.71\\n',\n",
       " '25 10:44  3.10\\n',\n",
       " '26  4:23  4.04\\n',\n",
       " '26 11:55  2.49\\n',\n",
       " '27  5:15  4.07\\n',\n",
       " '27 12:57  2.18\\n',\n",
       " '28  6:09  5.93\\n',\n",
       " '28 13:50  0.70\\n',\n",
       " '29  7:05  6.89\\n',\n",
       " '29 14:39  0.21\\n',\n",
       " '30  7:58  6.72\\n',\n",
       " '30 15:27  0.22\\n',\n",
       " '31  8:50  6.77\\n',\n",
       " '31 16:10 -1.68\\n',\n",
       " '32  9:40  5.77\\n',\n",
       " '32 16:52 -1.32\\n',\n",
       " '33 10:30  4.35\\n',\n",
       " '33 17:34 -0.73\\n',\n",
       " '34 11:19  4.23\\n',\n",
       " '34 18:12 -0.38\\n',\n",
       " '35 12:10  2.24\\n',\n",
       " '35 18:49 -0.61\\n',\n",
       " '36  1:32  3.45\\n',\n",
       " '36 19:24 -0.46\\n',\n",
       " '37  2:13  4.13\\n',\n",
       " '37 20:00  1.21\\n',\n",
       " '38  2:54  3.34\\n',\n",
       " '38  9:54  2.58\\n',\n",
       " '39  3:39  3.32\\n',\n",
       " '39 11:15  3.26\\n',\n",
       " '40  4:29  5.21\\n',\n",
       " '40 12:22  2.39\\n',\n",
       " '41  5:21  4.83\\n',\n",
       " '41 13:14  2.41\\n']"
      ]
     },
     "execution_count": 59,
     "metadata": {},
     "output_type": "execute_result"
    }
   ],
   "source": [
    "with open('ASTR19_S22_group_project_data.txt') as f:\n",
    "    lines = f.readlines()\n",
    "\n",
    "lines"
   ]
  },
  {
   "cell_type": "code",
   "execution_count": 60,
   "metadata": {},
   "outputs": [],
   "source": [
    "data = np.loadtxt('ASTR19_S22_group_project_data.txt', dtype = \"str\")\n"
   ]
  },
  {
   "cell_type": "code",
   "execution_count": 61,
   "metadata": {},
   "outputs": [
    {
     "data": {
      "text/plain": [
       "array([ 6.57, -0.39,  5.38, -1.74,  5.26, -1.36,  4.13, -1.15,  3.48,\n",
       "       -1.61,  2.62,  0.05,  1.83,  1.01,  3.57,  0.73,  4.54,  2.17,\n",
       "        3.76,  2.88,  3.9 ,  1.92,  4.73,  1.74,  5.66,  0.79,  5.33,\n",
       "       -0.04,  5.23, -1.12,  6.67, -0.61,  4.74, -0.93,  4.69, -1.29,\n",
       "        4.2 ,  0.22,  3.68,  0.26,  2.47,  0.36,  2.59,  0.99,  4.1 ,\n",
       "        1.87,  3.17,  1.6 ,  3.71,  3.1 ,  4.04,  2.49,  4.07,  2.18,\n",
       "        5.93,  0.7 ,  6.89,  0.21,  6.72,  0.22,  6.77, -1.68,  5.77,\n",
       "       -1.32,  4.35, -0.73,  4.23, -0.38,  2.24, -0.61,  3.45, -0.46,\n",
       "        4.13,  1.21,  3.34,  2.58,  3.32,  3.26,  5.21,  2.39,  4.83,\n",
       "        2.41])"
      ]
     },
     "execution_count": 61,
     "metadata": {},
     "output_type": "execute_result"
    }
   ],
   "source": [
    "day, time, tide = [],[],[]\n",
    "\n",
    "for i in data:\n",
    "        day = np.append(day, int(i[0]), axis=None)\n",
    "        time = np.append(time, i[1], axis=None)\n",
    "        tide = np.append(tide, float(i[2]), axis=None)\n",
    "\n",
    "day\n",
    "time\n",
    "tide"
   ]
  },
  {
   "cell_type": "code",
   "execution_count": 62,
   "metadata": {},
   "outputs": [
    {
     "data": {
      "text/plain": [
       "\" def oscillatory(day, time, tide):\\n    times = []\\n    for i in range(len(time)):\\n        t = float(time[i].replace(':', '.'))\\n\\n        times.append(t)\\n\\n    best_fit = [2*math.sin(times[i] / 4) * math.sin(times[i] / 6) + (math.sin(times[i] / 4) + 2) for i in range(len(times))]\\n\\n    return best_fit \""
      ]
     },
     "execution_count": 62,
     "metadata": {},
     "output_type": "execute_result"
    }
   ],
   "source": [
    "\"\"\" def oscillatory(day, time, tide):\n",
    "    times = []\n",
    "    for i in range(len(time)):\n",
    "        t = float(time[i].replace(':', '.'))\n",
    "\n",
    "        times.append(t)\n",
    "\n",
    "    best_fit = [2*math.sin(times[i] / 4) * math.sin(times[i] / 6) + (math.sin(times[i] / 4) + 2) for i in range(len(times))]\n",
    "\n",
    "    return best_fit \"\"\""
   ]
  },
  {
   "cell_type": "code",
   "execution_count": 63,
   "metadata": {},
   "outputs": [
    {
     "data": {
      "text/plain": [
       "' best_fit = oscillatory(day, time, tide)\\n\\nplt.plot(day, tide, day, best_fit)\\nplt.xlabel(\"Days\")\\nplt.ylabel(\"Tide Height\") '"
      ]
     },
     "execution_count": 63,
     "metadata": {},
     "output_type": "execute_result"
    }
   ],
   "source": [
    "\"\"\" best_fit = oscillatory(day, time, tide)\n",
    "\n",
    "plt.plot(day, tide, day, best_fit)\n",
    "plt.xlabel(\"Days\")\n",
    "plt.ylabel(\"Tide Height\") \"\"\""
   ]
  },
  {
   "cell_type": "code",
   "execution_count": 64,
   "metadata": {},
   "outputs": [
    {
     "data": {
      "text/plain": [
       "' diff = [tide[i] - best_fit[i] for i in range(len(tide))]\\nplt.hist(diff) '"
      ]
     },
     "execution_count": 64,
     "metadata": {},
     "output_type": "execute_result"
    }
   ],
   "source": [
    "\"\"\" diff = [tide[i] - best_fit[i] for i in range(len(tide))]\n",
    "plt.hist(diff) \"\"\""
   ]
  },
  {
   "cell_type": "code",
   "execution_count": 65,
   "metadata": {},
   "outputs": [],
   "source": [
    "def oscicllationFunc(x, a ,b, c, d, e):\n",
    "    return a*np.sin(x / b) * np.sin(x / c) + (x / d) + e"
   ]
  },
  {
   "cell_type": "code",
   "execution_count": 66,
   "metadata": {},
   "outputs": [],
   "source": [
    "times = []\n",
    "for i in range(len(time)):\n",
    "    t = float(time[i].replace(':', '.'))\n",
    "\n",
    "    times.append(t)"
   ]
  },
  {
   "cell_type": "code",
   "execution_count": 67,
   "metadata": {},
   "outputs": [],
   "source": [
    "popt, pcov = curve_fit(oscicllationFunc, times, tide)"
   ]
  },
  {
   "cell_type": "code",
   "execution_count": 68,
   "metadata": {},
   "outputs": [
    {
     "data": {
      "text/plain": [
       "array([ 4.04629063e+04, -1.11512520e+01,  1.76024888e+04,  4.29257817e-01,\n",
       "       -1.19069115e+00])"
      ]
     },
     "execution_count": 68,
     "metadata": {},
     "output_type": "execute_result"
    }
   ],
   "source": [
    "popt"
   ]
  },
  {
   "cell_type": "code",
   "execution_count": 69,
   "metadata": {},
   "outputs": [
    {
     "data": {
      "image/png": "[encoded data removed]",
      "text/plain": [
       "<Figure size 432x288 with 1 Axes>"
      ]
     },
     "metadata": {
      "needs_background": "light"
     },
     "output_type": "display_data"
    }
   ],
   "source": [
    "plt.plot(day, tide, label=\"data\")\n",
    "plt.plot(day, oscicllationFunc(times, *popt), label=\"best fit\")\n",
    "plt.xlabel(\"Days\")\n",
    "plt.ylabel(\"Tide Height\")\n",
    "plt.legend(loc='best', fancybox=True, shadow=True)\n",
    "plt.savefig(\"TidalMeasurements.pdf\")"
   ]
  },
  {
   "cell_type": "code",
   "execution_count": 70,
   "metadata": {},
   "outputs": [
    {
     "data": {
      "text/plain": [
       "0.8814756009892044"
      ]
     },
     "execution_count": 70,
     "metadata": {},
     "output_type": "execute_result"
    }
   ],
   "source": [
    "residuals = tide - oscicllationFunc(times, *popt)\n",
    "ss_res = np.sum(residuals**2)\n",
    "ss_tot = np.sum((tide-np.mean(tide))**2)\n",
    "r_squared = 1 - (ss_res / ss_tot)\n",
    "r_squared"
   ]
  },
  {
   "cell_type": "code",
   "execution_count": 71,
   "metadata": {},
   "outputs": [
    {
     "data": {
      "image/png": "[encoded data removed]",
      "text/plain": [
       "<Figure size 432x288 with 1 Axes>"
      ]
     },
     "metadata": {
      "needs_background": "light"
     },
     "output_type": "display_data"
    }
   ],
   "source": [
    "plt.plot(day, residuals)\n",
    "plt.xlabel(\"Day\")\n",
    "plt.ylabel(\"Residual Value\")\n",
    "plt.savefig(\"ResidualPlot.pdf\")"
   ]
  },
  {
   "cell_type": "code",
   "execution_count": 72,
   "metadata": {},
   "outputs": [
    {
     "data": {
      "image/png": "[encoded data removed]",
      "text/plain": [
       "<Figure size 432x288 with 1 Axes>"
      ]
     },
     "metadata": {
      "needs_background": "light"
     },
     "output_type": "display_data"
    }
   ],
   "source": [
    "plt.hist(residuals)\n",
    "plt.xlabel(\"Residual values\")\n",
    "plt.ylabel(\"# of Residuals\")\n",
    "plt.savefig(\"ResidualsHistogram.pdf\")"
   ]
  },
  {
   "cell_type": "code",
   "execution_count": 73,
   "metadata": {},
   "outputs": [
    {
     "data": {
      "text/plain": [
       "2.38064082624931"
      ]
     },
     "execution_count": 73,
     "metadata": {},
     "output_type": "execute_result"
    }
   ],
   "source": [
    "tides_std = np.std(tide)\n",
    "tides_std"
   ]
  },
  {
   "cell_type": "code",
   "execution_count": 74,
   "metadata": {},
   "outputs": [
    {
     "data": {
      "text/plain": [
       "8.89"
      ]
     },
     "execution_count": 74,
     "metadata": {},
     "output_type": "execute_result"
    }
   ],
   "source": [
    "max_tide = np.max(tide)\n",
    "max_tide\n",
    "\n",
    "tsunami_tide = max_tide + 2\n",
    "tsunami_tide"
   ]
  }
 ],
 "metadata": {
  "interpreter": {
   "hash": "0d4397f28a53cbce0d6a03358e2baad1194adb363516cfcc3153fa630ceeb8c4"
  },
  "kernelspec": {
   "display_name": "Python 3 (ipykernel)",
   "language": "python",
   "name": "python3"
  },
  "language_info": {
   "codemirror_mode": {
    "name": "ipython",
    "version": 3
   },
   "file_extension": ".py",
   "mimetype": "text/x-python",
   "name": "python",
   "nbconvert_exporter": "python",
   "pygments_lexer": "ipython3",
   "version": "3.8.9"
  }
 },
 "nbformat": 4,
 "nbformat_minor": 2
}
